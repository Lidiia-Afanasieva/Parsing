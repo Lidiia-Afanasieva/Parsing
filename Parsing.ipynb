{
  "cells": [
    {
      "cell_type": "markdown",
      "metadata": {
        "id": "-s-sHaQKri9h"
      },
      "source": [
        "# **Парсинг ячеек кода с сайтов, где авторы не прикладывают в конце скрипт с полным кодом** "
      ]
    },
    {
      "cell_type": "code",
      "execution_count": 10,
      "metadata": {
        "id": "kX5qAsw7n4_s"
      },
      "outputs": [],
      "source": [
        "import requests\n",
        "import nbformat"
      ]
    },
    {
      "cell_type": "code",
      "execution_count": null,
      "metadata": {
        "colab": {
          "base_uri": "https://localhost:8080/"
        },
        "id": "8TRz96egSMR-",
        "outputId": "edb4a5aa-3ff3-4c96-9e78-879ed3605137"
      },
      "outputs": [],
      "source": [
        "SOURCE = 'https://habr.com/ru/post/519454/'\n",
        "\n",
        "resp = requests.get(SOURCE).text\n",
        "print(resp)"
      ]
    },
    {
      "cell_type": "code",
      "execution_count": 6,
      "metadata": {
        "id": "WePuk7WhehBT"
      },
      "outputs": [],
      "source": [
        "def make_nb(code_blocks_l):\n",
        "    \"\"\"\n",
        "    Return .ipynb with python kernels founded in html\n",
        "    \"\"\"\n",
        "    nb = nbformat.v4.new_notebook()\n",
        "\n",
        "    markdown = nbformat.v4.new_markdown_cell(f'Resource of the code is: {SOURCE}')\n",
        "\n",
        "    nb['cells'] = [markdown]\n",
        "    nb_cells_l = [nbformat.v4.new_code_cell(item) for item in code_blocks_l]\n",
        "    nb['cells'] += nb_cells_l\n",
        "\n",
        "    nbformat.write(nb, 'parsing_res.ipynb')"
      ]
    },
    {
      "cell_type": "code",
      "execution_count": 8,
      "metadata": {
        "colab": {
          "base_uri": "https://localhost:8080/"
        },
        "id": "3TW20wr4Rn50",
        "outputId": "096ef967-c144-4edb-e9b1-e532d1413dfc"
      },
      "outputs": [
        {
          "name": "stdout",
          "output_type": "stream",
          "text": [
            "import cv2\n",
            "\n",
            "from cv2 import cv2\n",
            "\n",
            "def loading_displaying_saving():\n",
            "    img = cv2.imread('girl.jpg', cv2.IMREAD_GRAYSCALE)\n",
            "    cv2.imshow('girl', img)\n",
            "    cv2.waitKey(0)\n",
            "    cv2.imwrite('graygirl.jpg', img)\n",
            "\n",
            "print(\"Высота:\"+str(img.shape[0]))\n",
            "print(\"Ширина:\" + str(img.shape[1]))\n",
            "print(\"Количество каналов:\" + str(img.shape[2]))\n",
            "\n",
            "(b, g, r) = img[0, 0]\n",
            "print(\"Красный: {}, Зелёный: {}, Синий: {}\".format(r, g, b))\n",
            "\n",
            "img[0, 0] = (255, 0, 0)\n",
            "(b, g, r) = img[0, 0]\n",
            " print(\"Красный: {}, Зелёный: {}, Синий: {}\".format(r, g, b))\n",
            "\n",
            "Красный: 251, Зелёный: 43, Синий: 65\n",
            "Красный: 0, Зелёный: 0, Синий: 255\n",
            "\n"
          ]
        }
      ],
      "source": [
        "CBLOCK_CNT = resp.count('<code class=\"python\">')\n",
        "\n",
        "r_part = resp.split('<pre>')\n",
        "r_part = [item.partition('<code>')[2] if '<code>' in item else item.partition('<code class=\"python\">')[2] for item in r_part]\n",
        "\n",
        "l_part = [item for item in r_part if '</pre>' in item]\n",
        "\n",
        "cut_part = [item.partition('</code></pre>')[0] for item in l_part]\n",
        "\n",
        "cout = [print(item + '\\n') for item in cut_part]"
      ]
    },
    {
      "cell_type": "code",
      "execution_count": 9,
      "metadata": {
        "id": "4XjkJjZggTv6"
      },
      "outputs": [],
      "source": [
        "#  DOWNLOAD NOTEBOOK\n",
        "try:\n",
        "    make_nb(cut_part)\n",
        "except TypeError:\n",
        "    pass"
      ]
    }
  ],
  "metadata": {
    "colab": {
      "name": "Parsing.ipynb",
      "provenance": []
    },
    "kernelspec": {
      "display_name": "Python 3",
      "name": "python3"
    },
    "language_info": {
      "codemirror_mode": {
        "name": "ipython",
        "version": 3
      },
      "file_extension": ".py",
      "mimetype": "text/x-python",
      "name": "python",
      "nbconvert_exporter": "python",
      "pygments_lexer": "ipython3",
      "version": "3.8.10"
    }
  },
  "nbformat": 4,
  "nbformat_minor": 0
}
